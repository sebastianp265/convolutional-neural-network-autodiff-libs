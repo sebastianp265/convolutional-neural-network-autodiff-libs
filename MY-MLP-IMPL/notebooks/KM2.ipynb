{
 "cells": [
  {
   "cell_type": "code",
   "execution_count": 1,
   "id": "f7eac258-d408-4250-94a2-a9ae6236cbfd",
   "metadata": {},
   "outputs": [
    {
     "name": "stderr",
     "output_type": "stream",
     "text": [
      "\u001b[32m\u001b[1m  Activating\u001b[22m\u001b[39m project at `~/IdeaProjects/neural-network-convolution-autodiff-libs/MY-MLP-IMPL`\n"
     ]
    }
   ],
   "source": [
    "using Pkg\n",
    "Pkg.activate(\"..\")"
   ]
  },
  {
   "cell_type": "code",
   "execution_count": 2,
   "id": "b016e60f-a83f-49e0-8d39-dd69563a3a80",
   "metadata": {},
   "outputs": [],
   "source": [
    "using JLD2\n",
    "X_train = load(\"../data/imdb_dataset_prepared.jld2\", \"X_train\")\n",
    "y_train = load(\"../data/imdb_dataset_prepared.jld2\", \"y_train\")\n",
    "X_test = load(\"../data/imdb_dataset_prepared.jld2\", \"X_test\")\n",
    "y_test = load(\"../data/imdb_dataset_prepared.jld2\", \"y_test\")\n",
    "nothing"
   ]
  },
  {
   "cell_type": "code",
   "execution_count": 9,
   "id": "5ac04366-a1c3-4c5c-8f5b-a81a1cf273eb",
   "metadata": {},
   "outputs": [
    {
     "name": "stdout",
     "output_type": "stream",
     "text": [
      "Epoch: 1 (3.25s) \tTrain: (l: 0.63, a: 0.84) \tTest: (l: 0.58, a: 0.85)\n",
      "Epoch: 2 (2.90s) \tTrain: (l: 0.44, a: 0.92) \tTest: (l: 0.44, a: 0.86)\n",
      "Epoch: 3 (2.91s) \tTrain: (l: 0.29, a: 0.94) \tTest: (l: 0.37, a: 0.87)\n",
      "Epoch: 4 (2.93s) \tTrain: (l: 0.20, a: 0.96) \tTest: (l: 0.34, a: 0.87)\n",
      "Epoch: 5 (2.76s) \tTrain: (l: 0.14, a: 0.97) \tTest: (l: 0.32, a: 0.88)\n"
     ]
    }
   ],
   "source": [
    "using MYMLP, Printf, Statistics\n",
    "\n",
    "dataset = DataLoader((X_train, y_train), batchsize=64, shuffle=true)\n",
    "\n",
    "model = Chain(\n",
    "    Dense(size(X_train, 1), 32, relu),\n",
    "    Dense(32, 1, sigmoid)\n",
    ")\n",
    "\n",
    "loss(m, x, y) = binarycrossentropy(m(x), y)\n",
    "accuracy(m, x, y) =  mean((m(x).output .> 0.5) .== (y .> 0.5))\n",
    "\n",
    "opt = setup(Adam(), model)\n",
    "epochs = 5\n",
    "for epoch in 1:epochs\n",
    "    total_loss = 0.0\n",
    "    total_acc = 0.0\n",
    "    num_samples = 0\n",
    "\n",
    "    t = @elapsed begin\n",
    "        for (x, y) in dataset\n",
    "            grads = gradient!(model) do m\n",
    "                l = loss(m, x, y)\n",
    "                total_loss += l.output\n",
    "                total_acc += accuracy(m, x, y)\n",
    "                return l\n",
    "            end\n",
    "            update!(opt, model, grads[1])\n",
    "            num_samples += 1\n",
    "        end\n",
    "\n",
    "        train_loss = total_loss / num_samples\n",
    "        train_acc = total_acc / num_samples\n",
    "\n",
    "        test_acc = accuracy(model, X_test, y_test)\n",
    "        test_loss = loss(model, X_test, y_test).output\n",
    "    end\n",
    "\n",
    "    println(@sprintf(\"Epoch: %d (%.2fs) \\tTrain: (l: %.2f, a: %.2f) \\tTest: (l: %.2f, a: %.2f)\", \n",
    "        epoch, t, train_loss, train_acc, test_loss, test_acc))\n",
    "end"
   ]
  },
  {
   "cell_type": "code",
   "execution_count": null,
   "id": "3684e570-f1a4-4e38-b4b4-d76dc881cf37",
   "metadata": {},
   "outputs": [],
   "source": []
  }
 ],
 "metadata": {
  "kernelspec": {
   "display_name": "Julia 1.11.4",
   "language": "julia",
   "name": "julia-1.11"
  },
  "language_info": {
   "file_extension": ".jl",
   "mimetype": "application/julia",
   "name": "julia",
   "version": "1.11.4"
  }
 },
 "nbformat": 4,
 "nbformat_minor": 5
}
