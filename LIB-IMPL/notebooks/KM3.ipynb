{
 "cells": [
  {
   "cell_type": "code",
   "execution_count": 1,
   "id": "9f837979-8701-410d-8e57-4c6393aaa4ff",
   "metadata": {},
   "outputs": [
    {
     "name": "stderr",
     "output_type": "stream",
     "text": [
      "\u001b[32m\u001b[1m  Activating\u001b[22m\u001b[39m project at `~/IdeaProjects/neural-network-convolution-autodiff-libs/LIB-IMPL`\n"
     ]
    }
   ],
   "source": [
    "using Pkg\n",
    "Pkg.activate(\"..\")"
   ]
  },
  {
   "cell_type": "code",
   "execution_count": 2,
   "id": "9f10e381-a610-4fef-b7af-8dee305bbcba",
   "metadata": {},
   "outputs": [
    {
     "data": {
      "text/plain": [
       "50"
      ]
     },
     "execution_count": 2,
     "metadata": {},
     "output_type": "execute_result"
    }
   ],
   "source": [
    "using JLD2\n",
    "X_train = load(\"../data/KM3/imdb_dataset_prepared.jld2\", \"X_train\")\n",
    "y_train = load(\"../data/KM3/imdb_dataset_prepared.jld2\", \"y_train\")\n",
    "X_test = load(\"../data/KM3/imdb_dataset_prepared.jld2\", \"X_test\")\n",
    "y_test = load(\"../data/KM3/imdb_dataset_prepared.jld2\", \"y_test\")\n",
    "embeddings = load(\"../data/KM3/imdb_dataset_prepared.jld2\", \"embeddings\")\n",
    "vocab = load(\"../data/KM3/imdb_dataset_prepared.jld2\", \"vocab\")\n",
    "nothing\n",
    "\n",
    "embedding_dim = size(embeddings,1)"
   ]
  },
  {
   "cell_type": "code",
   "execution_count": 3,
   "id": "4d6cc01a-daf0-49fe-9296-76de73d7479f",
   "metadata": {},
   "outputs": [
    {
     "name": "stderr",
     "output_type": "stream",
     "text": [
      "\u001b[36m\u001b[1m[ \u001b[22m\u001b[39m\u001b[36m\u001b[1mInfo: \u001b[22m\u001b[39mPrecompiling MYMLP [3cc38821-e486-4839-8a60-8da7bc74b6b2] (cache misses: include_dependency fsize change (2), mismatched flags (18))\n"
     ]
    }
   ],
   "source": [
    "using MYMLP\n",
    "\n",
    "model = Chain(\n",
    "    Embedding(length(vocab), embedding_dim),\n",
    "    x->permutedims(x, (2,1,3)),\n",
    "    # Conv((3,), embedding_dim => 8, relu),\n",
    "    MaxPool((8,)),\n",
    "    flatten,\n",
    "    Dense(800, 1, sigmoid)\n",
    ")\n",
    "nothing"
   ]
  },
  {
   "cell_type": "code",
   "execution_count": 4,
   "id": "1d5f4edf-2420-4bc5-9d9f-b269112e17dd",
   "metadata": {},
   "outputs": [
    {
     "name": "stdout",
     "output_type": "stream",
     "text": [
      "Epoch: 1 (25.39s) \tTrain: (l: 0.72, a: 0.55) \tTest: (l: 0.68, a: 0.59)\n",
      "Epoch: 2 (13.51s) \tTrain: (l: 0.60, a: 0.67) \tTest: (l: 0.58, a: 0.69)\n",
      "Epoch: 3 (16.50s) \tTrain: (l: 0.49, a: 0.77) \tTest: (l: 0.49, a: 0.77)\n",
      "Epoch: 4 (18.28s) \tTrain: (l: 0.40, a: 0.83) \tTest: (l: 0.44, a: 0.79)\n",
      "Epoch: 5 (17.69s) \tTrain: (l: 0.33, a: 0.86) \tTest: (l: 0.41, a: 0.82)\n"
     ]
    }
   ],
   "source": [
    "using Printf, Statistics\n",
    "\n",
    "dataset = DataLoader((X_train, y_train), batchsize=64, shuffle=true)\n",
    "\n",
    "loss(m, x, y) = binarycrossentropy(m(x), y)\n",
    "accuracy(m, x, y) =  mean((m(x).output .> 0.5) .== (y .> 0.5))\n",
    "\n",
    "opt = setup(Adam(), model)\n",
    "\n",
    "epochs = 5\n",
    "for epoch in 1:epochs\n",
    "    total_loss = 0.0\n",
    "    total_acc = 0.0\n",
    "    num_samples = 0\n",
    "\n",
    "    t = @elapsed begin\n",
    "        for (x, y) in dataset\n",
    "            grads = gradient!(model) do m\n",
    "                l = loss(m, x, y)\n",
    "                total_loss += l.output\n",
    "                total_acc += accuracy(model, x, y)\n",
    "                return l\n",
    "            end\n",
    "            update!(opt, model, grads[1])\n",
    "            num_samples += 1\n",
    "        end\n",
    "\n",
    "        train_loss = total_loss / num_samples\n",
    "        train_acc = total_acc / num_samples\n",
    "\n",
    "        test_acc = accuracy(model, X_test, y_test)\n",
    "        test_loss = loss(model, X_test, y_test).output\n",
    "    end\n",
    "\n",
    "    println(@sprintf(\"Epoch: %d (%.2fs) \\tTrain: (l: %.2f, a: %.2f) \\tTest: (l: %.2f, a: %.2f)\", \n",
    "        epoch, t, train_loss, train_acc, test_loss, test_acc))\n",
    "end"
   ]
  },
  {
   "cell_type": "code",
   "execution_count": null,
   "id": "6da3d2f8-66d5-4c01-b04e-61f2187bc2b2",
   "metadata": {},
   "outputs": [],
   "source": []
  }
 ],
 "metadata": {
  "kernelspec": {
   "display_name": "Julia 1.11.4",
   "language": "julia",
   "name": "julia-1.11"
  },
  "language_info": {
   "file_extension": ".jl",
   "mimetype": "application/julia",
   "name": "julia",
   "version": "1.11.4"
  }
 },
 "nbformat": 4,
 "nbformat_minor": 5
}
