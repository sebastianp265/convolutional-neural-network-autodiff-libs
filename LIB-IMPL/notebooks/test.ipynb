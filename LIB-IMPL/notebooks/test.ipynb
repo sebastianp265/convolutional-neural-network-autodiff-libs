{
 "cells": [
  {
   "cell_type": "code",
   "execution_count": null,
   "id": "f404bcb3",
   "metadata": {
    "vscode": {
     "languageId": "julia"
    }
   },
   "outputs": [],
   "source": [
    "    using Pkg\n",
    "    Pkg.activate(\"..\")\n",
    "    using Test: Random\n",
    "    using JLD2\n",
    "    using Printf, Statistics\n",
    "    using Profile\n",
    "    using MYMLP, Printf, Statistics"
   ]
  },
  {
   "cell_type": "code",
   "execution_count": null,
   "id": "fc923e53",
   "metadata": {
    "vscode": {
     "languageId": "julia"
    }
   },
   "outputs": [],
   "source": [
    "    X_train = load(\"../data/KM3/imdb_dataset_prepared.jld2\", \"X_train\")\n",
    "    y_train = load(\"../data/KM3/imdb_dataset_prepared.jld2\", \"y_train\")\n",
    "    X_test = load(\"../data/KM3/imdb_dataset_prepared.jld2\", \"X_test\")\n",
    "    y_test = load(\"../data/KM3/imdb_dataset_prepared.jld2\", \"y_test\")\n",
    "    embeddings = load(\"../data/KM3/imdb_dataset_prepared.jld2\", \"embeddings\")\n",
    "    vocab = load(\"../data/KM3/imdb_dataset_prepared.jld2\", \"vocab\")\n",
    "    dataset = DataLoader((X_train, y_train), batchsize=64, shuffle=true)\n",
    "    embedding_dim = size(embeddings, 1)\n",
    "\n",
    "    fixed_randn32(dims...) = randn32(Random.MersenneTwister(123), dims...)\n",
    "    fixed_glorot(dims...) = glorot_uniform(Random.MersenneTwister(123), dims...)\n",
    "    \n",
    "    my_model = Chain(\n",
    "        Embedding(length(vocab), embedding_dim, init=fixed_randn32),\n",
    "        x -> permutedims(x, (2, 1, 3)),\n",
    "        Conv((3,), embedding_dim => 8, relu, init=fixed_glorot),\n",
    "        MaxPool((8,)),\n",
    "        flatten,\n",
    "        Dense(128, 1, sigmoid, init=fixed_glorot)\n",
    "    )"
   ]
  }
 ],
 "metadata": {
  "language_info": {
   "name": "python"
  }
 },
 "nbformat": 4,
 "nbformat_minor": 5
}
